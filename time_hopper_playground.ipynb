{
 "cells": [
  {
   "attachments": {},
   "cell_type": "markdown",
   "metadata": {},
   "source": [
    "# UTC is the db timezone for the connection. So I need to convert from UTC to that States Timezone.\n",
    "- find_tz - function find the time zone of the State provided - Location_State -> returns Location_State_TZ\n",
    "- convert_tz function - converts time zone from UTC_TZ to Location_State_TZ\n",
    "\n",
    "This is essentially a really large case statement. Not the best performant but if you have the will to find a solution, you can using LookML. But what I am offering is much more elegant. \n",
    "The US Package even have shapefiles which I dont have a use case yet but will dive into it in a post: https://pypi.org/project/us/\n",
    "\n",
    "There are 2 options in US, capital_tz and time_zones. Time_zones can be mulyiple per state. Can not use the this: zone=us.states.lookup('OR').time_zones\n",
    "But will use capital_tz to return only one. I tested this with OR. \n",
    "\n",
    "Oregon and Idaho are split between the Mountain and Pacific time zones. Nebraska, Kansas, Texas, North and South Dakota are divided between Central and Mountain time zones. Florida, Michigan, Indiana, Kentucky, and Tennessee are split between Eastern and Central time zones. (https://www.usatoday.com/picture-gallery/travel/news/2020/02/05/us-time-zone-map-texas-alaska-florida-oregon-have-two/41074419/)"
   ]
  },
  {
   "cell_type": "code",
   "execution_count": 13,
   "metadata": {},
   "outputs": [],
   "source": [
    "from datetime import datetime\n",
    "import pytz # Wont work in snwoflake therefor eneed to use build in timezone. mentionin Medium article\n",
    "import us"
   ]
  },
  {
   "cell_type": "code",
   "execution_count": 4,
   "metadata": {},
   "outputs": [
    {
     "data": {
      "text/plain": [
       "['America/New_York',\n",
       " 'America/Detroit',\n",
       " 'America/Kentucky/Louisville',\n",
       " 'America/Kentucky/Monticello',\n",
       " 'America/Indiana/Indianapolis',\n",
       " 'America/Indiana/Vincennes',\n",
       " 'America/Indiana/Winamac',\n",
       " 'America/Indiana/Marengo',\n",
       " 'America/Indiana/Petersburg',\n",
       " 'America/Indiana/Vevay',\n",
       " 'America/Chicago',\n",
       " 'America/Indiana/Tell_City',\n",
       " 'America/Indiana/Knox',\n",
       " 'America/Menominee',\n",
       " 'America/North_Dakota/Center',\n",
       " 'America/North_Dakota/New_Salem',\n",
       " 'America/North_Dakota/Beulah',\n",
       " 'America/Denver',\n",
       " 'America/Boise',\n",
       " 'America/Phoenix',\n",
       " 'America/Los_Angeles',\n",
       " 'America/Anchorage',\n",
       " 'America/Juneau',\n",
       " 'America/Sitka',\n",
       " 'America/Metlakatla',\n",
       " 'America/Yakutat',\n",
       " 'America/Nome',\n",
       " 'America/Adak',\n",
       " 'Pacific/Honolulu']"
      ]
     },
     "execution_count": 4,
     "metadata": {},
     "output_type": "execute_result"
    }
   ],
   "source": [
    "import pytz\n",
    "\n",
    "tznames = pytz.country_timezones['us']\n",
    "tznames"
   ]
  },
  {
   "cell_type": "code",
   "execution_count": 14,
   "metadata": {},
   "outputs": [
    {
     "name": "stdout",
     "output_type": "stream",
     "text": [
      "['America/Los_Angeles', 'America/Boise']\n",
      "<class 'list'>\n"
     ]
    }
   ],
   "source": [
    "#do not use\n",
    "zone=us.states.lookup('OR').time_zones\n",
    "print(zone)\n",
    "print(type(zone))"
   ]
  },
  {
   "cell_type": "code",
   "execution_count": 15,
   "metadata": {},
   "outputs": [
    {
     "data": {
      "text/plain": [
       "'America/Los_Angeles'"
      ]
     },
     "execution_count": 15,
     "metadata": {},
     "output_type": "execute_result"
    }
   ],
   "source": [
    "location_state = 'OR'\n",
    "us.states.lookup(location_state).capital_tz\n"
   ]
  },
  {
   "cell_type": "code",
   "execution_count": 4,
   "metadata": {},
   "outputs": [
    {
     "name": "stdout",
     "output_type": "stream",
     "text": [
      "America/Los_Angeles\n"
     ]
    }
   ],
   "source": [
    "#find_tz - function find the time zone of the State provided - Location_State -> returns Location_State_TZ\n",
    "def find_tz(Location_State):\n",
    "    Location_State_TZ = us.states.lookup(Location_State).capital_tz\n",
    "    return Location_State_TZ\n",
    "\n",
    "Location_State = 'OR'\n",
    "print(find_tz(Location_State))"
   ]
  },
  {
   "cell_type": "code",
   "execution_count": null,
   "metadata": {},
   "outputs": [],
   "source": [
    "def convert_datetime_timezone(dt, tz1, tz2):\n",
    "    tz1 = pytz.timezone(tz1)\n",
    "    tz2 = pytz.timezone(tz2)\n",
    "\n",
    "    dt = datetime.datetime.strptime(dt,\"%Y-%m-%d %H:%M:%S\")\n",
    "    dt = tz1.localize(dt)\n",
    "    dt = dt.astimezone(tz2)\n",
    "    dt = dt.strftime(\"%Y-%m-%d %H:%M:%S\")\n",
    "\n"
   ]
  },
  {
   "cell_type": "code",
   "execution_count": 10,
   "metadata": {},
   "outputs": [
    {
     "data": {
      "text/plain": [
       "'UTC'"
      ]
     },
     "execution_count": 10,
     "metadata": {},
     "output_type": "execute_result"
    }
   ],
   "source": [
    "from datetime import datetime, timedelta\n",
    "from pytz import timezone\n",
    "import pytz\n",
    "utc = pytz.utc\n",
    "utc_dt = utc.localize(datetime.utcfromtimestamp(1143408899))\n",
    "\n",
    "utc.zone"
   ]
  },
  {
   "cell_type": "code",
   "execution_count": 11,
   "metadata": {},
   "outputs": [
    {
     "data": {
      "text/plain": [
       "'US/Eastern'"
      ]
     },
     "execution_count": 11,
     "metadata": {},
     "output_type": "execute_result"
    }
   ],
   "source": [
    "eastern = timezone('America/Los_Angeles')\n",
    "eastern.zone"
   ]
  },
  {
   "cell_type": "code",
   "execution_count": 13,
   "metadata": {},
   "outputs": [
    {
     "name": "stdout",
     "output_type": "stream",
     "text": [
      "2006-03-27 08:34:59 AEDT+1100\n"
     ]
    }
   ],
   "source": [
    "amsterdam = timezone('Europe/Amsterdam')\n",
    "fmt = '%Y-%m-%d %H:%M:%S %Z%z'\n",
    "\n",
    "au_tz = timezone('Australia/Sydney')\n",
    "au_dt = utc_dt.astimezone(timezone('Australia/Sydney'))\n",
    "print(au_dt.strftime(fmt))"
   ]
  },
  {
   "cell_type": "code",
   "execution_count": null,
   "metadata": {},
   "outputs": [],
   "source": []
  },
  {
   "attachments": {},
   "cell_type": "markdown",
   "metadata": {},
   "source": [
    "# With pytz and us"
   ]
  },
  {
   "cell_type": "code",
   "execution_count": 1,
   "metadata": {},
   "outputs": [
    {
     "name": "stdout",
     "output_type": "stream",
     "text": [
      "Original time (UTC): 2023-02-17 17:30\n",
      "Converted time (CA): 2023-02-17 09:30:00-08:00\n"
     ]
    }
   ],
   "source": [
    "from datetime import datetime\n",
    "import pytz\n",
    "import us\n",
    "\n",
    "def find_tz(location_state_abbr):\n",
    "    state = us.states.lookup(location_state_abbr)\n",
    "    if state:\n",
    "        location_state_tz = pytz.timezone(state.capital_tz)\n",
    "        return location_state_tz\n",
    "    else:\n",
    "        return None\n",
    "\n",
    "def time_hopper(location_state_abbr, signing_time_str):\n",
    "    signing_time = datetime.strptime(signing_time_str, '%Y-%m-%d %H:%M')\n",
    "    state_timezone = find_tz(location_state_abbr)\n",
    "    if state_timezone:\n",
    "        signing_time_utc = signing_time.replace(tzinfo=pytz.utc)\n",
    "        converted_time = signing_time_utc.astimezone(state_timezone)\n",
    "        return converted_time\n",
    "    else:\n",
    "        return None\n",
    "\n",
    "if __name__ == '__main__':\n",
    "    location_state_abbr = 'CA'\n",
    "    signing_time_str = '2023-02-17 17:30'\n",
    "    converted_time = time_hopper(location_state_abbr, signing_time_str)\n",
    "    \n",
    "    if converted_time:\n",
    "        print(f'Original time (UTC): {signing_time_str}')\n",
    "        print(f'Converted time ({location_state_abbr}): {converted_time}')\n",
    "    else:\n",
    "        print('Invalid state abbreviation.')\n"
   ]
  },
  {
   "attachments": {},
   "cell_type": "markdown",
   "metadata": {},
   "source": [
    "# Without PyTZ"
   ]
  },
  {
   "cell_type": "code",
   "execution_count": 5,
   "metadata": {},
   "outputs": [
    {
     "name": "stdout",
     "output_type": "stream",
     "text": [
      "Original time (UTC): 2023-02-17 17:30\n",
      "Converted time (CA): 2023-02-17 09:30:00-08:00\n"
     ]
    }
   ],
   "source": [
    "from datetime import datetime\n",
    "from dateutil import tz\n",
    "import us\n",
    "\n",
    "def find_tz(location_state_abbr):\n",
    "    state = us.states.lookup(location_state_abbr)\n",
    "    if state:\n",
    "        location_state_tz = tz.gettz(state.capital_tz)\n",
    "        return location_state_tz\n",
    "    else:\n",
    "        return None\n",
    "\n",
    "def time_hopper(location_state_abbr, signing_time_str):\n",
    "    signing_time = datetime.strptime(signing_time_str, '%Y-%m-%d %H:%M')\n",
    "    state_timezone = find_tz(location_state_abbr)\n",
    "    if state_timezone:\n",
    "        signing_time_utc = signing_time.replace(tzinfo=tz.UTC)\n",
    "        converted_time = signing_time_utc.astimezone(state_timezone)\n",
    "        return converted_time\n",
    "    else:\n",
    "        return None\n",
    "\n",
    "if __name__ == '__main__':\n",
    "    location_state_abbr = 'CA'\n",
    "    signing_time_str = '2023-02-17 17:30'\n",
    "    converted_time = time_hopper(location_state_abbr, signing_time_str)\n",
    "    \n",
    "    if converted_time:\n",
    "        print(f'Original time (UTC): {signing_time_str}')\n",
    "        print(f'Converted time ({location_state_abbr}): {converted_time}')\n",
    "    else:\n",
    "        print('Invalid state abbreviation.')\n"
   ]
  },
  {
   "attachments": {},
   "cell_type": "markdown",
   "metadata": {},
   "source": [
    "# Without PyTZ and US packages"
   ]
  },
  {
   "cell_type": "code",
   "execution_count": 3,
   "metadata": {},
   "outputs": [
    {
     "name": "stdout",
     "output_type": "stream",
     "text": [
      "2023-02-17 09:30\n"
     ]
    }
   ],
   "source": [
    "\n",
    "from datetime import datetime\n",
    "from dateutil import tz\n",
    "\n",
    "def find_tz(location_state_abbr):\n",
    "    state_timezones = {\n",
    "        \"AL\": \"America/Chicago\",\n",
    "        \"AK\": \"America/Anchorage\",\n",
    "        \"AZ\": \"America/Phoenix\",\n",
    "        \"AR\": \"America/Chicago\",\n",
    "        \"CA\": \"America/Los_Angeles\",\n",
    "        # Add the remaining states with their respective time zones\n",
    "    }\n",
    "    \n",
    "    location_state_tz = state_timezones.get(location_state_abbr)\n",
    "    \n",
    "    if location_state_tz:\n",
    "        return tz.gettz(location_state_tz)\n",
    "    else:\n",
    "        return None\n",
    "\n",
    "def hopper_py(location_state_abbr, signing_time_str):\n",
    "    signing_time = datetime.strptime(signing_time_str, \"%Y-%m-%d %H:%M\")\n",
    "    state_timezone = find_tz(location_state_abbr)\n",
    "    \n",
    "    if state_timezone:\n",
    "        signing_time_utc = signing_time.replace(tzinfo=tz.UTC)\n",
    "        converted_time = signing_time_utc.astimezone(state_timezone)\n",
    "        return converted_time.strftime(\"%Y-%m-%d %H:%M\")\n",
    "    else:\n",
    "        return None\n",
    "\n",
    "print(hopper_py('CA', '2023-02-17 17:30'))\n",
    "\n"
   ]
  },
  {
   "attachments": {},
   "cell_type": "markdown",
   "metadata": {},
   "source": [
    "# Without US but with pytz (Current snowflake configuration)"
   ]
  },
  {
   "cell_type": "code",
   "execution_count": 19,
   "metadata": {},
   "outputs": [
    {
     "name": "stdout",
     "output_type": "stream",
     "text": [
      "Original time (UTC): 2023-02-17 17:30\n",
      "Converted time (WA): 2023-02-17 09:30:00-08:00\n"
     ]
    }
   ],
   "source": [
    "from datetime import datetime\n",
    "import pytz\n",
    "\n",
    "from datetime import datetime\n",
    "from dateutil import tz\n",
    "\n",
    "def find_tz(location_state_abbr):\n",
    "    state_timezones = {\n",
    "        \"AL\": \"America/Chicago\",\n",
    "        \"AK\": \"America/Anchorage\",\n",
    "        \"AZ\": \"America/Phoenix\",\n",
    "        \"AR\": \"America/Chicago\",\n",
    "        \"CA\": \"America/Los_Angeles\",\n",
    "        # Add the remaining states with their respective time zones\n",
    "        \"CO\": \"America/Denver\",\n",
    "        \"CT\": \"America/New_York\",\n",
    "        \"DE\": \"America/New_York\",\n",
    "        \"FL\": \"America/New_York\",\n",
    "        \"GA\": \"America/New_York\",\n",
    "        \"HI\": \"Pacific/Honolulu\",\n",
    "        \"ID\": \"America/Boise\",\n",
    "        \"IL\": \"America/Chicago\",\n",
    "        \"IN\": \"America/New_York\",\n",
    "        \"IA\": \"America/Chicago\",\n",
    "        \"KS\": \"America/Chicago\",\n",
    "        \"KY\": \"America/New_York\",\n",
    "        \"LA\": \"America/Chicago\",\n",
    "        \"ME\": \"America/New_York\",\n",
    "        \"MD\": \"America/New_York\",\n",
    "        \"MA\": \"America/New_York\",\n",
    "        \"MI\": \"America/New_York\",\n",
    "        \"MN\": \"America/Chicago\",\n",
    "        \"MS\": \"America/Chicago\",\n",
    "        \"MO\": \"America/Chicago\",\n",
    "        \"MT\": \"America/Denver\",\n",
    "        \"NE\": \"America/Chicago\",\n",
    "        \"NV\": \"America/Los_Angeles\",\n",
    "        \"NH\": \"America/New_York\",\n",
    "        \"NJ\": \"America/New_York\",\n",
    "        \"NM\": \"America/Denver\",\n",
    "        \"NY\": \"America/New_York\",\n",
    "        \"NC\": \"America/New_York\",\n",
    "        \"ND\": \"America/Chicago\",\n",
    "        \"OH\": \"America/New_York\",\n",
    "        \"OK\": \"America/Chicago\",\n",
    "        \"OR\": \"America/Los_Angeles\",\n",
    "        \"PA\": \"America/New_York\",\n",
    "        \"RI\": \"America/New_York\",\n",
    "        \"SC\": \"America/New_York\",\n",
    "        \"SD\": \"America/Chicago\",\n",
    "        \"TN\": \"America/Chicago\",\n",
    "        \"TX\": \"America/Chicago\",\n",
    "        \"UT\": \"America/Denver\",\n",
    "        \"VT\": \"America/New_York\",\n",
    "        \"VA\": \"America/New_York\",\n",
    "        \"WA\": \"America/Los_Angeles\",\n",
    "        \"WV\": \"America/New_York\",\n",
    "        \"WI\": \"America/Chicago\",\n",
    "        \"WY\": \"America/Denver\"\n",
    "    }\n",
    "    \n",
    "    location_state_tz = state_timezones.get(location_state_abbr)\n",
    "    \n",
    "    if location_state_tz:\n",
    "        return tz.gettz(location_state_tz)\n",
    "    else:\n",
    "        return None\n",
    "    \n",
    "# Maybe add above function within this? Actually no. It can be modular this way\n",
    "def time_hopper(location_state_abbr, signing_time_str):\n",
    "    signing_time = datetime.strptime(signing_time_str, '%Y-%m-%d %H:%M')\n",
    "    state_timezone = find_tz(location_state_abbr)\n",
    "    if state_timezone:\n",
    "        signing_time_utc = signing_time.replace(tzinfo=pytz.utc)\n",
    "        converted_time = signing_time_utc.astimezone(state_timezone)\n",
    "        return converted_time\n",
    "    else:\n",
    "        return None\n",
    "\n",
    "if __name__ == '__main__':\n",
    "    location_state_abbr = 'WA'\n",
    "    signing_time_str = '2023-02-17 17:30'\n",
    "    converted_time = time_hopper(location_state_abbr, signing_time_str)\n",
    "    \n",
    "    if converted_time:\n",
    "        print(f'Original time (UTC): {signing_time_str}')\n",
    "        print(f'Converted time ({location_state_abbr}): {converted_time}')\n",
    "    else:\n",
    "        print('Invalid state abbreviation.')"
   ]
  },
  {
   "cell_type": "code",
   "execution_count": 22,
   "metadata": {},
   "outputs": [],
   "source": [
    "from datetime import datetime\n",
    "import pytz\n",
    "from dateutil import tz\n",
    "\n",
    "def find_tz(location_state_abbr):\n",
    "    state_timezones = {\n",
    "        \"AL\": \"America/Chicago\",\n",
    "        \"AK\": \"America/Anchorage\",\n",
    "        \"AZ\": \"America/Phoenix\",\n",
    "        \"AR\": \"America/Chicago\",\n",
    "        \"CA\": \"America/Los_Angeles\",\n",
    "        \"CO\": \"America/Denver\",\n",
    "        \"CT\": \"America/New_York\",\n",
    "        \"DE\": \"America/New_York\",\n",
    "        \"FL\": \"America/New_York\",\n",
    "        \"GA\": \"America/New_York\",\n",
    "        \"HI\": \"Pacific/Honolulu\",\n",
    "        \"ID\": \"America/Boise\",\n",
    "        \"IL\": \"America/Chicago\",\n",
    "        \"IN\": \"America/New_York\",\n",
    "        \"IA\": \"America/Chicago\",\n",
    "        \"KS\": \"America/Chicago\",\n",
    "        \"KY\": \"America/New_York\",\n",
    "        \"LA\": \"America/Chicago\",\n",
    "        \"ME\": \"America/New_York\",\n",
    "        \"MD\": \"America/New_York\",\n",
    "        \"MA\": \"America/New_York\",\n",
    "        \"MI\": \"America/New_York\",\n",
    "        \"MN\": \"America/Chicago\",\n",
    "        \"MS\": \"America/Chicago\",\n",
    "        \"MO\": \"America/Chicago\",\n",
    "        \"MT\": \"America/Denver\",\n",
    "        \"NE\": \"America/Chicago\",\n",
    "        \"NV\": \"America/Los_Angeles\",\n",
    "        \"NH\": \"America/New_York\",\n",
    "        \"NJ\": \"America/New_York\",\n",
    "        \"NM\": \"America/Denver\",\n",
    "        \"NY\": \"America/New_York\",\n",
    "        \"NC\": \"America/New_York\",\n",
    "        \"ND\": \"America/Chicago\",\n",
    "        \"OH\": \"America/New_York\",\n",
    "        \"OK\": \"America/Chicago\",\n",
    "        \"OR\": \"America/Los_Angeles\",\n",
    "        \"PA\": \"America/New_York\",\n",
    "        \"RI\": \"America/New_York\",\n",
    "        \"SC\": \"America/New_York\",\n",
    "        \"SD\": \"America/Chicago\",\n",
    "        \"TN\": \"America/Chicago\",\n",
    "        \"TX\": \"America/Chicago\",\n",
    "        \"UT\": \"America/Denver\",\n",
    "        \"VT\": \"America/New_York\",\n",
    "        \"VA\": \"America/New_York\",\n",
    "        \"WA\": \"America/Los_Angeles\",\n",
    "        \"WV\": \"America/New_York\",\n",
    "        \"WI\": \"America/Chicago\",\n",
    "        \"WY\": \"America/Denver\"\n",
    "        }\n",
    "    location_state_tz = state_timezones.get(location_state_abbr)\n",
    "    if location_state_tz:\n",
    "        return tz.gettz(location_state_tz)\n",
    "    else:\n",
    "        return None\n",
    "\n",
    "def time_hopper(location_state_abbr, signing_time_str):\n",
    "    signing_time = datetime.strptime(signing_time_str, \"%Y-%m-%d %H:%M\")\n",
    "    state_timezone = find_tz(location_state_abbr)\n",
    "    \n",
    "    if state_timezone:\n",
    "        signing_time_utc = signing_time.replace(tzinfo=tz.UTC)\n",
    "        converted_time = signing_time_utc.astimezone(state_timezone)\n",
    "        return converted_time.strftime(\"%Y-%m-%d %H:%M\")\n",
    "    else:\n",
    "        return None\n"
   ]
  },
  {
   "cell_type": "code",
   "execution_count": 23,
   "metadata": {},
   "outputs": [
    {
     "name": "stdout",
     "output_type": "stream",
     "text": [
      "2023-02-17 09:30\n"
     ]
    }
   ],
   "source": [
    "result = time_hopper(location_state_abbr, signing_time_str)\n",
    "print(result)"
   ]
  }
 ],
 "metadata": {
  "kernelspec": {
   "display_name": "Python 3",
   "language": "python",
   "name": "python3"
  },
  "language_info": {
   "codemirror_mode": {
    "name": "ipython",
    "version": 3
   },
   "file_extension": ".py",
   "mimetype": "text/x-python",
   "name": "python",
   "nbconvert_exporter": "python",
   "pygments_lexer": "ipython3",
   "version": "3.10.4"
  },
  "orig_nbformat": 4
 },
 "nbformat": 4,
 "nbformat_minor": 2
}
